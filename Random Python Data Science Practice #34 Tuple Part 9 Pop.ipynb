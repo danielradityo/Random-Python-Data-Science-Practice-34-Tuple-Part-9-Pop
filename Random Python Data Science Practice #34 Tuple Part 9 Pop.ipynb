{
 "cells": [
  {
   "cell_type": "markdown",
   "metadata": {},
   "source": [
    "## Random Python Data Science Practice #34"
   ]
  },
  {
   "cell_type": "markdown",
   "metadata": {},
   "source": [
    "## Tuple Part 9 Pop"
   ]
  },
  {
   "cell_type": "code",
   "execution_count": 3,
   "metadata": {},
   "outputs": [
    {
     "name": "stdout",
     "output_type": "stream",
     "text": [
      "('Car', 'Motorcycle', 'Bycycle', 'Plane', 'Ship', 'Cano', 'Train', 'Truck', 'Jet', 'Helicopter')\n",
      "('Jakarta', 'Tokyo', 'Bandung', 'New York', 'Las Vegas', 'Yogyakarta', 'Beijing')\n",
      "('Daniel', 9, 3.4, True, 'Data', 'Science', False, 6.2, 4)\n"
     ]
    }
   ],
   "source": [
    "# Create Tuple\n",
    "vehicle_tuple = ('Car', 'Motorcycle', 'Bycycle', 'Plane', 'Ship', 'Cano', 'Train', 'Truck', 'Jet', 'Helicopter') # --> Tuple use ()\n",
    "city_tuple = ('Jakarta', 'Tokyo', 'Bandung', 'New York', 'Las Vegas', 'Yogyakarta', 'Beijing')\n",
    "mix_tuple = ('Daniel', 9, 3.4, True, 'Data', 'Science', False, 6.2, 4)\n",
    "print(vehicle_tuple)\n",
    "print(city_tuple)\n",
    "print(mix_tuple)"
   ]
  },
  {
   "cell_type": "markdown",
   "metadata": {},
   "source": [
    "## Pop Tuple"
   ]
  },
  {
   "cell_type": "code",
   "execution_count": 4,
   "metadata": {},
   "outputs": [
    {
     "ename": "AttributeError",
     "evalue": "'tuple' object has no attribute 'pop'",
     "output_type": "error",
     "traceback": [
      "\u001b[1;31m---------------------------------------------------------------------------\u001b[0m",
      "\u001b[1;31mAttributeError\u001b[0m                            Traceback (most recent call last)",
      "\u001b[1;32m<ipython-input-4-488c9e17554e>\u001b[0m in \u001b[0;36m<module>\u001b[1;34m\u001b[0m\n\u001b[0;32m      1\u001b[0m \u001b[1;31m# Pop is for delete a data from the last in a tuple\u001b[0m\u001b[1;33m\u001b[0m\u001b[1;33m\u001b[0m\u001b[1;33m\u001b[0m\u001b[0m\n\u001b[1;32m----> 2\u001b[1;33m \u001b[0mvehicle_tuple\u001b[0m\u001b[1;33m.\u001b[0m\u001b[0mpop\u001b[0m\u001b[1;33m(\u001b[0m\u001b[1;33m)\u001b[0m\u001b[1;33m\u001b[0m\u001b[1;33m\u001b[0m\u001b[0m\n\u001b[0m\u001b[0;32m      3\u001b[0m \u001b[0mcity_tuple\u001b[0m\u001b[1;33m.\u001b[0m\u001b[0mpop\u001b[0m\u001b[1;33m(\u001b[0m\u001b[1;33m)\u001b[0m\u001b[1;33m\u001b[0m\u001b[1;33m\u001b[0m\u001b[0m\n\u001b[0;32m      4\u001b[0m \u001b[0mmix_tuple\u001b[0m\u001b[1;33m.\u001b[0m\u001b[0mpop\u001b[0m\u001b[1;33m(\u001b[0m\u001b[1;33m)\u001b[0m\u001b[1;33m\u001b[0m\u001b[1;33m\u001b[0m\u001b[0m\n\u001b[0;32m      5\u001b[0m \u001b[0mprint\u001b[0m\u001b[1;33m(\u001b[0m\u001b[0mvehicle_tuple\u001b[0m\u001b[1;33m)\u001b[0m\u001b[1;33m\u001b[0m\u001b[1;33m\u001b[0m\u001b[0m\n",
      "\u001b[1;31mAttributeError\u001b[0m: 'tuple' object has no attribute 'pop'"
     ]
    }
   ],
   "source": [
    "# Pop can not to delete a data from the last in a tuple\n",
    "vehicle_tuple.pop()\n",
    "city_tuple.pop()\n",
    "mix_tuple.pop()\n",
    "print(vehicle_tuple)\n",
    "print(city_tuple)\n",
    "print(mix_tuple)"
   ]
  },
  {
   "cell_type": "code",
   "execution_count": null,
   "metadata": {},
   "outputs": [],
   "source": []
  }
 ],
 "metadata": {
  "kernelspec": {
   "display_name": "Python 3",
   "language": "python",
   "name": "python3"
  },
  "language_info": {
   "codemirror_mode": {
    "name": "ipython",
    "version": 3
   },
   "file_extension": ".py",
   "mimetype": "text/x-python",
   "name": "python",
   "nbconvert_exporter": "python",
   "pygments_lexer": "ipython3",
   "version": "3.8.5"
  }
 },
 "nbformat": 4,
 "nbformat_minor": 4
}
